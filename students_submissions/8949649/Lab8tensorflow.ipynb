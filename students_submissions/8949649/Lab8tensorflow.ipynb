{
 "cells": [
  {
   "cell_type": "markdown",
   "metadata": {},
   "source": [
    "**NAME - Aerish Gaba**<br>\n",
    "**STUDENT ID - 8949649**\n"
   ]
  },
  {
   "cell_type": "markdown",
   "metadata": {},
   "source": [
    "**Dot product using tensorflow**"
   ]
  },
  {
   "cell_type": "code",
   "execution_count": 3,
   "metadata": {},
   "outputs": [
    {
     "name": "stdout",
     "output_type": "stream",
     "text": [
      "Dot Product: 32\n"
     ]
    }
   ],
   "source": [
    "import tensorflow as tf\n",
    "\n",
    "# Define two vectors\n",
    "vector1 = tf.constant([1, 2, 3])\n",
    "vector2 = tf.constant([4, 5, 6])\n",
    "\n",
    "# Calculate the dot product\n",
    "dot_product = tf.reduce_sum(tf.multiply(vector1, vector2))\n",
    "\n",
    "# Print the result\n",
    "print(\"Dot Product:\", dot_product.numpy())\n"
   ]
  },
  {
   "cell_type": "markdown",
   "metadata": {},
   "source": [
    "**Matrix multiplication using tensorflow**"
   ]
  },
  {
   "cell_type": "code",
   "execution_count": 9,
   "metadata": {},
   "outputs": [
    {
     "name": "stdout",
     "output_type": "stream",
     "text": [
      "Matrix Multiplication Result for AB:\n",
      "[[[19 22]\n",
      "  [43 50]]]\n",
      "Matrix Multiplication Result for BA:\n",
      "[[[23 34]\n",
      "  [31 46]]]\n"
     ]
    }
   ],
   "source": [
    "# Define two matrices\n",
    "A = tf.constant([[[1, 2], [3, 4]]])\n",
    "B = tf.constant([[5, 6], [7, 8]])\n",
    "\n",
    "# Calculate the matrix multiplication\n",
    "result_matrix_AB = tf.matmul(A, B)\n",
    "result_matrix_BA = tf.matmul(B, A)\n",
    "# Print the result\n",
    "print(\"Matrix Multiplication Result for AB:\")\n",
    "print(result_matrix.numpy())\n",
    "\n",
    "print(\"Matrix Multiplication Result for BA:\")\n",
    "print(result_matrix_BA.numpy())\n",
    "\n"
   ]
  }
 ],
 "metadata": {
  "kernelspec": {
   "display_name": "tensorflow_cpu",
   "language": "python",
   "name": "python3"
  },
  "language_info": {
   "codemirror_mode": {
    "name": "ipython",
    "version": 3
   },
   "file_extension": ".py",
   "mimetype": "text/x-python",
   "name": "python",
   "nbconvert_exporter": "python",
   "pygments_lexer": "ipython3",
   "version": "3.11.6"
  }
 },
 "nbformat": 4,
 "nbformat_minor": 2
}
