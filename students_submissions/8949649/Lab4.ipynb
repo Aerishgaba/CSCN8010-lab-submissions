{
 "cells": [
  {
   "cell_type": "code",
   "execution_count": 5,
   "metadata": {},
   "outputs": [],
   "source": [
    "import numpy as np\n",
    "import matplotlib.pyplot as plt\n",
    "from sklearn.datasets import load_diabetes\n",
    "from sklearn.model_selection import train_test_split\n",
    "from sklearn.linear_model import LinearRegression\n",
    "from sklearn.preprocessing import PolynomialFeatures\n",
    "from sklearn.metrics import mean_squared_error, r2_score"
   ]
  },
  {
   "cell_type": "code",
   "execution_count": 50,
   "metadata": {},
   "outputs": [
    {
     "data": {
      "text/html": [
       "<div>\n",
       "<style scoped>\n",
       "    .dataframe tbody tr th:only-of-type {\n",
       "        vertical-align: middle;\n",
       "    }\n",
       "\n",
       "    .dataframe tbody tr th {\n",
       "        vertical-align: top;\n",
       "    }\n",
       "\n",
       "    .dataframe thead th {\n",
       "        text-align: right;\n",
       "    }\n",
       "</style>\n",
       "<table border=\"1\" class=\"dataframe\">\n",
       "  <thead>\n",
       "    <tr style=\"text-align: right;\">\n",
       "      <th></th>\n",
       "      <th>age</th>\n",
       "      <th>sex</th>\n",
       "      <th>bmi</th>\n",
       "      <th>bp</th>\n",
       "      <th>s1</th>\n",
       "      <th>s2</th>\n",
       "      <th>s3</th>\n",
       "      <th>s4</th>\n",
       "      <th>s5</th>\n",
       "      <th>s6</th>\n",
       "    </tr>\n",
       "  </thead>\n",
       "  <tbody>\n",
       "    <tr>\n",
       "      <th>0</th>\n",
       "      <td>59.0</td>\n",
       "      <td>2.0</td>\n",
       "      <td>32.1</td>\n",
       "      <td>101.0</td>\n",
       "      <td>157.0</td>\n",
       "      <td>93.2</td>\n",
       "      <td>38.0</td>\n",
       "      <td>4.0</td>\n",
       "      <td>4.8598</td>\n",
       "      <td>87.0</td>\n",
       "    </tr>\n",
       "    <tr>\n",
       "      <th>1</th>\n",
       "      <td>48.0</td>\n",
       "      <td>1.0</td>\n",
       "      <td>21.6</td>\n",
       "      <td>87.0</td>\n",
       "      <td>183.0</td>\n",
       "      <td>103.2</td>\n",
       "      <td>70.0</td>\n",
       "      <td>3.0</td>\n",
       "      <td>3.8918</td>\n",
       "      <td>69.0</td>\n",
       "    </tr>\n",
       "    <tr>\n",
       "      <th>2</th>\n",
       "      <td>72.0</td>\n",
       "      <td>2.0</td>\n",
       "      <td>30.5</td>\n",
       "      <td>93.0</td>\n",
       "      <td>156.0</td>\n",
       "      <td>93.6</td>\n",
       "      <td>41.0</td>\n",
       "      <td>4.0</td>\n",
       "      <td>4.6728</td>\n",
       "      <td>85.0</td>\n",
       "    </tr>\n",
       "    <tr>\n",
       "      <th>3</th>\n",
       "      <td>24.0</td>\n",
       "      <td>1.0</td>\n",
       "      <td>25.3</td>\n",
       "      <td>84.0</td>\n",
       "      <td>198.0</td>\n",
       "      <td>131.4</td>\n",
       "      <td>40.0</td>\n",
       "      <td>5.0</td>\n",
       "      <td>4.8903</td>\n",
       "      <td>89.0</td>\n",
       "    </tr>\n",
       "    <tr>\n",
       "      <th>4</th>\n",
       "      <td>50.0</td>\n",
       "      <td>1.0</td>\n",
       "      <td>23.0</td>\n",
       "      <td>101.0</td>\n",
       "      <td>192.0</td>\n",
       "      <td>125.4</td>\n",
       "      <td>52.0</td>\n",
       "      <td>4.0</td>\n",
       "      <td>4.2905</td>\n",
       "      <td>80.0</td>\n",
       "    </tr>\n",
       "  </tbody>\n",
       "</table>\n",
       "</div>"
      ],
      "text/plain": [
       "    age  sex   bmi     bp     s1     s2    s3   s4      s5    s6\n",
       "0  59.0  2.0  32.1  101.0  157.0   93.2  38.0  4.0  4.8598  87.0\n",
       "1  48.0  1.0  21.6   87.0  183.0  103.2  70.0  3.0  3.8918  69.0\n",
       "2  72.0  2.0  30.5   93.0  156.0   93.6  41.0  4.0  4.6728  85.0\n",
       "3  24.0  1.0  25.3   84.0  198.0  131.4  40.0  5.0  4.8903  89.0\n",
       "4  50.0  1.0  23.0  101.0  192.0  125.4  52.0  4.0  4.2905  80.0"
      ]
     },
     "execution_count": 50,
     "metadata": {},
     "output_type": "execute_result"
    }
   ],
   "source": [
    "#importing the dataset\n",
    "X, y = datasets.load_diabetes(as_frame=True, scaled=False, return_X_y=True)\n",
    "X.head()"
   ]
  },
  {
   "cell_type": "markdown",
   "metadata": {},
   "source": [
    "Here AS_FRAME = True means that the data is returned as a pandas dataframe if FALSE it would have returned data to numpy and\n",
    "SCALED = True means that the data is scaled"
   ]
  },
  {
   "cell_type": "code",
   "execution_count": 4,
   "metadata": {},
   "outputs": [],
   "source": [
    "#Splitting the dataset into training and testing sets\n",
    "X_train, X_test, y_train, y_test = train_test_split(X, y, test_size=0.2, random_state=42)"
   ]
  },
  {
   "cell_type": "markdown",
   "metadata": {},
   "source": [
    "1. MULTIVARIATE LINEAR REGRESSION"
   ]
  },
  {
   "cell_type": "code",
   "execution_count": 67,
   "metadata": {},
   "outputs": [
    {
     "name": "stdout",
     "output_type": "stream",
     "text": [
      "Multivariate Linear Regression MAE: 42.79409467959994\n",
      "Multivariate Linear Regression R2: 0.4526027629719197\n",
      "Multivariate Linear Regression MAPE: 37.49982636756112\n"
     ]
    }
   ],
   "source": [
    "# Multivariate Linear Regression Model (lr)\n",
    "mv_lr = LinearRegression()\n",
    "mv_lr.fit(X_train, y_train)\n",
    "y_pred_lr = mv_lr.predict(X_test)\n",
    "mae_lr = mean_absolute_error(y_test, y_pred_lr)\n",
    "r2_lr = r2_score(y_test, y_pred_lr)\n",
    "mape_lr = np.mean(np.abs((y_test - y_pred_lr) / y_test)) * 100\n",
    "print(\"Multivariate Linear Regression MAE:\", mae_lr)\n",
    "print(\"Multivariate Linear Regression R2:\", r2_lr)\n",
    "print(\"Multivariate Linear Regression MAPE:\", mape_lr)\n"
   ]
  },
  {
   "cell_type": "markdown",
   "metadata": {},
   "source": [
    "2. POLYNOMIAL LINEAR REGRESSION OF 2 DEGREE ON BMI ALONE"
   ]
  },
  {
   "cell_type": "code",
   "execution_count": 66,
   "metadata": {},
   "outputs": [
    {
     "name": "stdout",
     "output_type": "stream",
     "text": [
      "Polynomial Regression on BMI (2nd degree) MAE: 52.38391176015265\n",
      "Polynomial Regression on BMI (2nd degree) R2: 0.2289715971205667\n",
      "Polynomial Regression on BMI (2nd degree) MAPE: 45.99695581375561\n"
     ]
    },
    {
     "data": {
      "text/plain": [
       "(3,)"
      ]
     },
     "execution_count": 66,
     "metadata": {},
     "output_type": "execute_result"
    }
   ],
   "source": [
    "# Polynomial Regression on BMI (2nd degree) (pr)\n",
    "bmi_feature_index = 2\n",
    "X_bmi = X_train[:, [bmi_feature_index]]\n",
    "poly = PolynomialFeatures(degree=2)\n",
    "X_poly = poly.fit_transform(X_bmi)\n",
    "lr_poly = LinearRegression()\n",
    "lr_poly.fit(X_poly, y_train)\n",
    "X_test_poly = poly.transform(X_test[:, [bmi_feature_index]])\n",
    "y_pred_poly = lr_poly.predict(X_test_poly)\n",
    "mae_poly = mean_absolute_error(y_test, y_pred_poly)\n",
    "r2_poly = r2_score(y_test, y_pred_poly)\n",
    "mape_poly = calculate_mape(y_test, y_pred_poly)\n",
    "\n",
    "print(\"Polynomial Regression on BMI (2nd degree) MAE:\", mae_poly)\n",
    "print(\"Polynomial Regression on BMI (2nd degree) R2:\", r2_poly)\n",
    "print(\"Polynomial Regression on BMI (2nd degree) MAPE:\", mape_poly)\n",
    "\n",
    "feature_poly = poly.get_feature_names_out()\n",
    "feature_poly.shape"
   ]
  },
  {
   "cell_type": "markdown",
   "metadata": {},
   "source": [
    "3. MULTIVARIATE POLYNOMIAL REGRESSION OF 2 DEGREE on ALL VARIABLES"
   ]
  },
  {
   "cell_type": "code",
   "execution_count": 65,
   "metadata": {},
   "outputs": [
    {
     "name": "stdout",
     "output_type": "stream",
     "text": [
      "Polynomial Regression MAE: 43.581693254652535\n",
      "Polynomial Regression R2: 0.4156399336408\n",
      "Polynomial Regression MAPE: 38.28567851400161\n"
     ]
    },
    {
     "data": {
      "text/plain": [
       "(65,)"
      ]
     },
     "execution_count": 65,
     "metadata": {},
     "output_type": "execute_result"
    }
   ],
   "source": [
    "# Polynomial Regression with degree 2 (poly)\n",
    "poly = PolynomialFeatures(degree=2, include_bias=False)\n",
    "X_train_pr = poly.fit_transform(X_train)\n",
    "X_test_pr = poly.fit_transform(X_test)\n",
    "poly_lr = LinearRegression()\n",
    "poly_lr.fit(X_train_pr, y_train)\n",
    "y_pred_pr = poly_lr.predict(X_test_pr)\n",
    "mae_pr = mean_absolute_error(y_test, y_pred_pr)\n",
    "r2_pr = r2_score(y_test, y_pred_pr)\n",
    "mape_pr = np.mean(np.abs((y_test - y_pred_pr) / y_test)) * 100\n",
    "print(\"Polynomial Regression MAE:\", mae_pr)\n",
    "print(\"Polynomial Regression R2:\", r2_pr)\n",
    "print(\"Polynomial Regression MAPE:\", mape_pr)\n",
    "\n",
    "feature_pr = poly.get_feature_names_out()\n",
    "feature_pr.shape"
   ]
  },
  {
   "cell_type": "markdown",
   "metadata": {},
   "source": [
    "COMPARISON AND VISUALIZATION OF MODELS ON BASIS OF MAE, MAPE and R-SQUARED VALUES"
   ]
  },
  {
   "cell_type": "code",
   "execution_count": 56,
   "metadata": {},
   "outputs": [
    {
     "data": {
      "image/png": "[encoded data removed]",
      "text/plain": [
       "<Figure size 1200x500 with 3 Axes>"
      ]
     },
     "metadata": {},
     "output_type": "display_data"
    }
   ],
   "source": [
    "# Create bar plots for MAE, MAPE, and R-squared for each model\n",
    "models = [\"Multivariate\", \"Polynomial(BMI)\", \"M.Polynomial\"]\n",
    "mae_values = [mae_lr, mae_poly, mae_pr]\n",
    "mape_values = [mape_lr, mape_poly, mape_pr]\n",
    "r2_values = [r2_lr, r2_poly, r2_pr]\n",
    "\n",
    "plt.figure(figsize=(12, 5))\n",
    "\n",
    "# MSE\n",
    "plt.subplot(131)\n",
    "plt.bar(models, mae_values)\n",
    "plt.ylim(0, 60)\n",
    "plt.title(\"Mean Absolute Error (MAE)\")\n",
    "\n",
    "# MAPE\n",
    "plt.subplot(132)\n",
    "plt.bar(models, mape_values, color=\"green\")\n",
    "plt.title(\"Mean Absolute Percentage Error (MAPE)\")\n",
    "\n",
    "# R-squared\n",
    "plt.subplot(133)\n",
    "plt.bar(models, r2_values, color=\"orange\")\n",
    "plt.title(\"R-squared (R2)\")\n",
    "\n",
    "plt.tight_layout()\n",
    "plt.show()"
   ]
  },
  {
   "cell_type": "markdown",
   "metadata": {},
   "source": [
    "Model is said to be better if it has Lower values in MAE and MAPE also Consequently will have its R-Square value closer to 1.\n",
    "Comparing Values from above 3 models it is clear that Multivariate Linear Regression Model is the better fit then the other two models. However it can also be observed that there is not much difference between values of Multivariate Linear Regresiion model and Multivariate Polynomial model on all the variables."
   ]
  },
  {
   "cell_type": "markdown",
   "metadata": {},
   "source": [
    "(i) The number of Parameters we are fitting in the Linear Regresiion Model is 2. \n",
    "    In Polynomial Linear Regression of Degree 2 on BMI alone are 3.\n",
    "    Whereas In Polynomial Regression With degree 2 on all variables number of Parameters are 65"
   ]
  },
  {
   "cell_type": "markdown",
   "metadata": {},
   "source": [
    "(ii) From the Statistical data above it is clear that Mulativariate Linear Regression Model be applied to get better output and precision."
   ]
  }
 ],
 "metadata": {
  "kernelspec": {
   "display_name": "Python 3",
   "language": "python",
   "name": "python3"
  },
  "language_info": {
   "codemirror_mode": {
    "name": "ipython",
    "version": 3
   },
   "file_extension": ".py",
   "mimetype": "text/x-python",
   "name": "python",
   "nbconvert_exporter": "python",
   "pygments_lexer": "ipython3",
   "version": "3.11.6"
  }
 },
 "nbformat": 4,
 "nbformat_minor": 2
}
