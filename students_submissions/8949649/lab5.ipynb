{
 "cells": [
  {
   "cell_type": "code",
   "execution_count": 1,
   "metadata": {},
   "outputs": [],
   "source": [
    "from sklearn import datasets\n",
    "from sklearn.metrics import mean_absolute_error\n",
    "from sklearn.model_selection import cross_val_score\n",
    "from sklearn.preprocessing import PolynomialFeatures\n",
    "from sklearn.pipeline import make_pipeline\n",
    "from sklearn.linear_model import LinearRegression\n",
    "from sklearn import linear_model\n",
    "import pandas as pd"
   ]
  },
  {
   "cell_type": "code",
   "execution_count": 3,
   "metadata": {},
   "outputs": [],
   "source": [
    "#Loading Diabetes Dataset\n",
    "X, y = datasets.load_diabetes(as_frame=True, scaled=False, return_X_y=True)\n"
   ]
  },
  {
   "cell_type": "markdown",
   "metadata": {},
   "source": [
    "PERFORMING CROSS VALIDATION ON NINE POLYNOMIAL MODELS RANGING FROM 0 TO 8"
   ]
  },
  {
   "cell_type": "code",
   "execution_count": 10,
   "metadata": {},
   "outputs": [],
   "source": [
    "degrees = range(9)\n",
    "cross_val = []\n",
    "r2_score = []\n",
    "mapes = []\n",
    "for degree in degrees:\n",
    "    model = make_pipeline(PolynomialFeatures(degree),LinearRegression())\n",
    "    scores = cross_val_score(model,X,y,cv=5,scoring='neg_mean_absolute_error').mean()\n",
    "    r2_scores = cross_val_score(model,X,y,cv=5,scoring='r2').mean()\n",
    "    mape_scores = cross_val_score(model,X,y,cv=5,scoring='neg_mean_absolute_percentage_error').mean()\n",
    "    cross_val.append(-scores)\n",
    "    r2_score.append(r2_scores)\n",
    "    mapes.append(-mape_scores)"
   ]
  },
  {
   "cell_type": "markdown",
   "metadata": {},
   "source": [
    "Table summarizing the cross-validation results."
   ]
  },
  {
   "cell_type": "code",
   "execution_count": 13,
   "metadata": {},
   "outputs": [
    {
     "data": {
      "text/html": [
       "<div>\n",
       "<style scoped>\n",
       "    .dataframe tbody tr th:only-of-type {\n",
       "        vertical-align: middle;\n",
       "    }\n",
       "\n",
       "    .dataframe tbody tr th {\n",
       "        vertical-align: top;\n",
       "    }\n",
       "\n",
       "    .dataframe thead th {\n",
       "        text-align: right;\n",
       "    }\n",
       "</style>\n",
       "<table border=\"1\" class=\"dataframe\">\n",
       "  <thead>\n",
       "    <tr style=\"text-align: right;\">\n",
       "      <th></th>\n",
       "      <th>degree</th>\n",
       "      <th>cross_val</th>\n",
       "      <th>r2_score</th>\n",
       "      <th>mape</th>\n",
       "    </tr>\n",
       "  </thead>\n",
       "  <tbody>\n",
       "    <tr>\n",
       "      <th>0</th>\n",
       "      <td>0</td>\n",
       "      <td>66.045624</td>\n",
       "      <td>-0.027506</td>\n",
       "      <td>0.623622</td>\n",
       "    </tr>\n",
       "    <tr>\n",
       "      <th>1</th>\n",
       "      <td>1</td>\n",
       "      <td>44.276499</td>\n",
       "      <td>0.482316</td>\n",
       "      <td>0.394860</td>\n",
       "    </tr>\n",
       "    <tr>\n",
       "      <th>2</th>\n",
       "      <td>2</td>\n",
       "      <td>69.864481</td>\n",
       "      <td>-0.957090</td>\n",
       "      <td>0.609146</td>\n",
       "    </tr>\n",
       "    <tr>\n",
       "      <th>3</th>\n",
       "      <td>3</td>\n",
       "      <td>330.432387</td>\n",
       "      <td>-199.795789</td>\n",
       "      <td>2.261685</td>\n",
       "    </tr>\n",
       "    <tr>\n",
       "      <th>4</th>\n",
       "      <td>4</td>\n",
       "      <td>657.260477</td>\n",
       "      <td>-571.083108</td>\n",
       "      <td>5.232018</td>\n",
       "    </tr>\n",
       "    <tr>\n",
       "      <th>5</th>\n",
       "      <td>5</td>\n",
       "      <td>562.993636</td>\n",
       "      <td>-436.856887</td>\n",
       "      <td>4.570284</td>\n",
       "    </tr>\n",
       "    <tr>\n",
       "      <th>6</th>\n",
       "      <td>6</td>\n",
       "      <td>742.721998</td>\n",
       "      <td>-1695.874798</td>\n",
       "      <td>6.186852</td>\n",
       "    </tr>\n",
       "    <tr>\n",
       "      <th>7</th>\n",
       "      <td>7</td>\n",
       "      <td>1032.681725</td>\n",
       "      <td>-5530.894075</td>\n",
       "      <td>8.666399</td>\n",
       "    </tr>\n",
       "    <tr>\n",
       "      <th>8</th>\n",
       "      <td>8</td>\n",
       "      <td>1475.658532</td>\n",
       "      <td>-16076.255119</td>\n",
       "      <td>12.474617</td>\n",
       "    </tr>\n",
       "  </tbody>\n",
       "</table>\n",
       "</div>"
      ],
      "text/plain": [
       "   degree    cross_val      r2_score       mape\n",
       "0       0    66.045624     -0.027506   0.623622\n",
       "1       1    44.276499      0.482316   0.394860\n",
       "2       2    69.864481     -0.957090   0.609146\n",
       "3       3   330.432387   -199.795789   2.261685\n",
       "4       4   657.260477   -571.083108   5.232018\n",
       "5       5   562.993636   -436.856887   4.570284\n",
       "6       6   742.721998  -1695.874798   6.186852\n",
       "7       7  1032.681725  -5530.894075   8.666399\n",
       "8       8  1475.658532 -16076.255119  12.474617"
      ]
     },
     "execution_count": 13,
     "metadata": {},
     "output_type": "execute_result"
    }
   ],
   "source": [
    "#Summarizing the results\n",
    "summary = pd.DataFrame({'degree':degrees,'cross_val':cross_val,'r2_score':r2_score,'mape':mapes})\n",
    "summary"
   ]
  },
  {
   "cell_type": "markdown",
   "metadata": {},
   "source": [
    "Identification of the Best Model :\n",
    "From The scores of data it is clear that for degree 1 the model exhibits best results with value of r square closest to 1 then any other model and minimize the loss i.e. MAE and MAPE. \n",
    "\n",
    "Since R-squared measures the proportion of variance in the model, a higher R-squared value indicates a larger proportion of variability that the model could explain which means better performance.\n",
    "Therefore the model has the best accuracy and the model is approx 48% better at predicting values then mean then other models betweeon degree 0 to 8."
   ]
  }
 ],
 "metadata": {
  "kernelspec": {
   "display_name": "Python 3",
   "language": "python",
   "name": "python3"
  },
  "language_info": {
   "codemirror_mode": {
    "name": "ipython",
    "version": 3
   },
   "file_extension": ".py",
   "mimetype": "text/x-python",
   "name": "python",
   "nbconvert_exporter": "python",
   "pygments_lexer": "ipython3",
   "version": "3.11.6"
  }
 },
 "nbformat": 4,
 "nbformat_minor": 2
}
